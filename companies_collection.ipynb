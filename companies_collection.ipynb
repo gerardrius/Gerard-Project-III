{
 "cells": [
  {
   "cell_type": "code",
   "execution_count": 1,
   "metadata": {},
   "outputs": [],
   "source": [
    "# We import the libraries required\n",
    "from pymongo import MongoClient\n",
    "from bson.json_util import dumps\n",
    "import pandas as pd\n",
    "\n",
    "from companies_collection import *"
   ]
  },
  {
   "attachments": {},
   "cell_type": "markdown",
   "metadata": {},
   "source": [
    "## Goal of this notebook \n",
    "### Apply some queries to companies' collection to find those that meet the following criteria:\n",
    "\n",
    "- Tech companies that do design and other business activities that might be related to videogames\n",
    "- Tech startups that raised 1M"
   ]
  },
  {
   "cell_type": "code",
   "execution_count": 2,
   "metadata": {},
   "outputs": [],
   "source": [
    "# We set the connection to the ironhack database in MongoDB, from where we get the collection companies.\n",
    "client = MongoClient('localhost:27017')\n",
    "db = client.get_database('ironhack')\n",
    "companies = db.get_collection('companies')"
   ]
  },
  {
   "cell_type": "code",
   "execution_count": 3,
   "metadata": {},
   "outputs": [
    {
     "data": {
      "text/plain": [
       "dict_keys(['_id', 'name', 'permalink', 'crunchbase_url', 'homepage_url', 'blog_url', 'blog_feed_url', 'twitter_username', 'category_code', 'number_of_employees', 'founded_year', 'founded_month', 'founded_day', 'deadpooled_year', 'tag_list', 'alias_list', 'email_address', 'phone_number', 'description', 'created_at', 'updated_at', 'overview', 'image', 'products', 'relationships', 'competitions', 'providerships', 'total_money_raised', 'funding_rounds', 'investments', 'acquisition', 'acquisitions', 'offices', 'milestones', 'video_embeds', 'screenshots', 'external_links', 'partners'])"
      ]
     },
     "execution_count": 3,
     "metadata": {},
     "output_type": "execute_result"
    }
   ],
   "source": [
    "# To follow the boss' instructions, we check what information available we have for other similar companies in the collection\n",
    "companies.find_one().keys()"
   ]
  },
  {
   "attachments": {},
   "cell_type": "markdown",
   "metadata": {},
   "source": [
    "The most interesting keys to filter by are category code, which stands for the business field of the company, and the total money raised, that can help us identify what startups have been the most successful."
   ]
  },
  {
   "attachments": {},
   "cell_type": "markdown",
   "metadata": {},
   "source": [
    "## Company code"
   ]
  },
  {
   "cell_type": "code",
   "execution_count": 4,
   "metadata": {},
   "outputs": [
    {
     "name": "stdout",
     "output_type": "stream",
     "text": [
      "[None, 'advertising', 'analytics', 'automotive', 'biotech', 'cleantech', 'consulting', 'design', 'ecommerce', 'education', 'enterprise', 'fashion', 'finance', 'games_video', 'government', 'hardware', 'health', 'hospitality', 'legal', 'local', 'manufacturing', 'medical', 'messaging', 'mobile', 'music', 'nanotech', 'network_hosting', 'news', 'nonprofit', 'other', 'photo_video', 'public_relations', 'real_estate', 'search', 'security', 'semiconductor', 'social', 'software', 'sports', 'transportation', 'travel', 'web']\n"
     ]
    }
   ],
   "source": [
    "# We check for tech companies whose field of business is related to ours.\n",
    "business_activities = companies.distinct('category_code')\n",
    "print(business_activities)"
   ]
  },
  {
   "cell_type": "code",
   "execution_count": 5,
   "metadata": {},
   "outputs": [],
   "source": [
    "# We'll maintain those companies working on design, videogames, software and web.\n",
    "query_category = {'category_code': {'$regex': '(design|games_video|software|web)'}}\n",
    "queried_db = list(companies.find(query_category))"
   ]
  },
  {
   "attachments": {},
   "cell_type": "markdown",
   "metadata": {},
   "source": [
    "## Total money raised"
   ]
  },
  {
   "cell_type": "code",
   "execution_count": 6,
   "metadata": {},
   "outputs": [
    {
     "data": {
      "text/plain": [
       "[{'name': 'Tuenti Technologies', 'total_money_raised': '€9M'},\n",
       " {'name': 'Quaero', 'total_money_raised': '€99M'},\n",
       " {'name': 'Proximic', 'total_money_raised': '€9.46M'},\n",
       " {'name': 'Blyk', 'total_money_raised': '€87M'},\n",
       " {'name': 'Biometric Security', 'total_money_raised': '€8.97M'},\n",
       " {'name': 'Goojet', 'total_money_raised': '€8.3M'},\n",
       " {'name': 'KeyNeurotek Pharmaceuticals', 'total_money_raised': '€8.2M'},\n",
       " {'name': 'quietrevolution', 'total_money_raised': '€7M'},\n",
       " {'name': 'MyFab', 'total_money_raised': '€7M'},\n",
       " {'name': 'Internet Mall', 'total_money_raised': '€73M'}]"
      ]
     },
     "execution_count": 6,
     "metadata": {},
     "output_type": "execute_result"
    }
   ],
   "source": [
    "query_scale = {'total_money_raised': {'$regex': '(?i)m'}} # This query accepts M amounts and avoids K quantities.\n",
    "query_amount = {'total_money_raised': {'$gte': '1M'}} # Money raised greater than or equal to 1M.\n",
    "amount_scale = {'$and': [query_amount, query_scale]} # Two queries together.\n",
    "projection = {'name': 1,'total_money_raised': 1, '_id': 0}\n",
    "\n",
    "# This query gives us companies having achieved at least a million in funding rounds. However, order should be fixed.\n",
    "list(companies.find(amount_scale, projection).sort('total_money_raised', -1).limit(10))"
   ]
  },
  {
   "cell_type": "code",
   "execution_count": 7,
   "metadata": {},
   "outputs": [],
   "source": [
    "# We apply all queries at once and export the filtered collection.\n",
    "query_category = {'category_code': {'$regex': '(design|games_video|software|web)'}}\n",
    "amount_scale = {'$and': [query_amount, query_scale]}\n",
    "\n",
    "total_query = {'$and': [amount_scale, query_category]} # we add the first query (about categories), to the previously joined queries (scale and amount).\n",
    "queried_db = list(companies.find(total_query))"
   ]
  },
  {
   "attachments": {},
   "cell_type": "markdown",
   "metadata": {},
   "source": [
    "## Query and export with functions"
   ]
  },
  {
   "cell_type": "code",
   "execution_count": 8,
   "metadata": {},
   "outputs": [],
   "source": [
    "companies = mongo('ironhack', 'companies')"
   ]
  },
  {
   "cell_type": "code",
   "execution_count": 10,
   "metadata": {},
   "outputs": [
    {
     "data": {
      "text/plain": [
       "'The collection has been exported, with a total remaining of 98 companies!'"
      ]
     },
     "execution_count": 10,
     "metadata": {},
     "output_type": "execute_result"
    }
   ],
   "source": [
    "collection_queried (companies)"
   ]
  }
 ],
 "metadata": {
  "kernelspec": {
   "display_name": "ironhack",
   "language": "python",
   "name": "python3"
  },
  "language_info": {
   "codemirror_mode": {
    "name": "ipython",
    "version": 3
   },
   "file_extension": ".py",
   "mimetype": "text/x-python",
   "name": "python",
   "nbconvert_exporter": "python",
   "pygments_lexer": "ipython3",
   "version": "3.9.12"
  },
  "orig_nbformat": 4,
  "vscode": {
   "interpreter": {
    "hash": "79e8e12960902be9b96136e06f35e6a59d5d8c359e0492f5e08d8a671bbdf383"
   }
  }
 },
 "nbformat": 4,
 "nbformat_minor": 2
}
