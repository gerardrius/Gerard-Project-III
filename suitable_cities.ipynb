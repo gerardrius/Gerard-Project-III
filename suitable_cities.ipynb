{
 "cells": [
  {
   "cell_type": "code",
   "execution_count": 2,
   "metadata": {},
   "outputs": [],
   "source": [
    "import pandas as pd"
   ]
  },
  {
   "cell_type": "code",
   "execution_count": 4,
   "metadata": {},
   "outputs": [],
   "source": [
    "companies = pd.read_csv('companies_queried.csv')"
   ]
  },
  {
   "cell_type": "code",
   "execution_count": 18,
   "metadata": {},
   "outputs": [
    {
     "data": {
      "text/plain": [
       "0     [{'description': None, 'address1': 'Esromgade ...\n",
       "1     [{'description': 'Headquarters', 'address1': '...\n",
       "2     [{'description': 'Canadian', 'address1': '1400...\n",
       "3                                                    []\n",
       "4     [{'description': '', 'address1': 'Calle Quinta...\n",
       "                            ...                        \n",
       "92    [{'description': '', 'address1': '7th Floor,',...\n",
       "93                                                   []\n",
       "94    [{'description': 'Headquarters', 'address1': '...\n",
       "95    [{'description': 'World Headquarters', 'addres...\n",
       "96    [{'description': 'HQ', 'address1': 'Rue des Ta...\n",
       "Name: offices, Length: 97, dtype: object"
      ]
     },
     "execution_count": 18,
     "metadata": {},
     "output_type": "execute_result"
    }
   ],
   "source": [
    "(companies['offices'])"
   ]
  },
  {
   "cell_type": "code",
   "execution_count": null,
   "metadata": {},
   "outputs": [],
   "source": []
  }
 ],
 "metadata": {
  "kernelspec": {
   "display_name": "ironhack",
   "language": "python",
   "name": "python3"
  },
  "language_info": {
   "codemirror_mode": {
    "name": "ipython",
    "version": 3
   },
   "file_extension": ".py",
   "mimetype": "text/x-python",
   "name": "python",
   "nbconvert_exporter": "python",
   "pygments_lexer": "ipython3",
   "version": "3.9.12"
  },
  "orig_nbformat": 4,
  "vscode": {
   "interpreter": {
    "hash": "79e8e12960902be9b96136e06f35e6a59d5d8c359e0492f5e08d8a671bbdf383"
   }
  }
 },
 "nbformat": 4,
 "nbformat_minor": 2
}
