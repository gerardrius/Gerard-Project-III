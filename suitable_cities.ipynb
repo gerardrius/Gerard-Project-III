{
 "cells": [
  {
   "cell_type": "code",
   "execution_count": 2,
   "metadata": {},
   "outputs": [],
   "source": [
    "import pandas as pd"
   ]
  },
  {
   "cell_type": "code",
   "execution_count": 4,
   "metadata": {},
   "outputs": [],
   "source": [
    "companies = pd.read_csv('companies_queried.csv')"
   ]
  },
  {
   "cell_type": "code",
   "execution_count": 24,
   "metadata": {},
   "outputs": [
    {
     "data": {
      "text/plain": [
       "'[{\\'description\\': \\'Bigpoint Headquarters\\', \\'address1\\': \\'Drehbahn 47-48\\', \\'address2\\': \\'\\', \\'zip_code\\': \\'20354\\', \\'city\\': \\'Hamburg\\', \\'state_code\\': None, \\'country_code\\': \\'DEU\\', \\'latitude\\': 53.5973055, \\'longitude\\': 9.9762519}, {\\'description\\': \\'Bigpoint Inc.\\', \\'address1\\': \\'500 Howard St.\\', \\'address2\\': \\'Suite 300\\', \\'zip_code\\': \\'CA 94105\\', \\'city\\': \\'San Francisco\\', \\'state_code\\': \\'CA\\', \\'country_code\\': \\'USA\\', \\'latitude\\': None, \\'longitude\\': None}, {\\'description\\': \\'Bigpoint Berlin\\', \\'address1\\': \\'Alexander St.\\', \\'address2\\': \\'\\', \\'zip_code\\': \\'10178\\', \\'city\\': \\'Berlin\\', \\'state_code\\': None, \\'country_code\\': \\'DEU\\', \\'latitude\\': None, \\'longitude\\': None}, {\\'description\\': \\'Bigpoint International\\', \\'address1\\': \\'1 Villa Zimmermann\\', \\'address2\\': \"Ta \\'Xbiex Terrace\", \\'zip_code\\': \\'XBX 1035\\', \\'city\\': \"Ta \\'Xbiex\", \\'state_code\\': None, \\'country_code\\': \\'MLT\\', \\'latitude\\': None, \\'longitude\\': None}]'"
      ]
     },
     "execution_count": 24,
     "metadata": {},
     "output_type": "execute_result"
    }
   ],
   "source": [
    "companies['offices'][85]"
   ]
  },
  {
   "cell_type": "code",
   "execution_count": 18,
   "metadata": {},
   "outputs": [
    {
     "data": {
      "text/plain": [
       "0     [{'description': None, 'address1': 'Esromgade ...\n",
       "1     [{'description': 'Headquarters', 'address1': '...\n",
       "2     [{'description': 'Canadian', 'address1': '1400...\n",
       "3                                                    []\n",
       "4     [{'description': '', 'address1': 'Calle Quinta...\n",
       "                            ...                        \n",
       "92    [{'description': '', 'address1': '7th Floor,',...\n",
       "93                                                   []\n",
       "94    [{'description': 'Headquarters', 'address1': '...\n",
       "95    [{'description': 'World Headquarters', 'addres...\n",
       "96    [{'description': 'HQ', 'address1': 'Rue des Ta...\n",
       "Name: offices, Length: 97, dtype: object"
      ]
     },
     "execution_count": 18,
     "metadata": {},
     "output_type": "execute_result"
    }
   ],
   "source": [
    "(companies['offices'])"
   ]
  },
  {
   "cell_type": "code",
   "execution_count": null,
   "metadata": {},
   "outputs": [],
   "source": []
  }
 ],
 "metadata": {
  "kernelspec": {
   "display_name": "ironhack",
   "language": "python",
   "name": "python3"
  },
  "language_info": {
   "codemirror_mode": {
    "name": "ipython",
    "version": 3
   },
   "file_extension": ".py",
   "mimetype": "text/x-python",
   "name": "python",
   "nbconvert_exporter": "python",
   "pygments_lexer": "ipython3",
   "version": "3.9.12 (main, Jun  1 2022, 06:36:29) \n[Clang 12.0.0 ]"
  },
  "orig_nbformat": 4,
  "vscode": {
   "interpreter": {
    "hash": "79e8e12960902be9b96136e06f35e6a59d5d8c359e0492f5e08d8a671bbdf383"
   }
  }
 },
 "nbformat": 4,
 "nbformat_minor": 2
}
